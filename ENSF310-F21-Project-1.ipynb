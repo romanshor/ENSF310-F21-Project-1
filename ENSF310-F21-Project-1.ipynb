{
 "cells": [
  {
   "cell_type": "markdown",
   "source": [
    "# ENSF 310 Project #1\r\n",
    "\r\n",
    "## Loading and Visualizing Data\r\n",
    "\r\n",
    "### Due Friday, October 8th at 5pm via github\r\n",
    "\r\n",
    "In this project, you will create a visual graphic of data from a dataset of your choosing.  The dataset may be of any topic, however, it must meet the following criteria:\r\n",
    "- Come from a trustworthy and verifiable public source.\r\n",
    "- Be properly cited in your project.\r\n",
    "- Contain at least two columns of data and consist of at least 500 rows.\r\n",
    "\r\n",
    "With this data, you need to create a visual that summarizes the data and presents some insight.  Simply plotting the data is not sufficient - you must manipulate the data to derive additional information (a running average, a trendline, annotations, etc).  The visual must be easy to understand.\r\n",
    "\r\n",
    "Examples of datasets:\r\n",
    "- hourly CO2 data from Mauna Loa\r\n",
    "- hourly weather data showing seasonal and annual trends\r\n",
    "- electricity production and demand data for Alberta from AESO\r\n",
    "- national and/or local statistics for COVID-19\r\n",
    "\r\n",
    "The image below is an example of a potential graphic which shows atmospheric CO2 data since 1980 and then overlays Jan-June 2020 data over it to show the impact of the pandemic on global CO2 levels. \r\n",
    "\r\n",
    "<img src=\"Data.jpg\"></img>\r\n",
    "\r\n",
    "Some potentially useful resources to help you get started:\r\n",
    "- How to read a file using pandas: https://stackoverflow.com/questions/19632075/how-to-read-file-with-space-separated-values-in-pandas\r\n",
    "- Filtering data in pandas: https://stackoverflow.com/questions/18172851/deleting-dataframe-row-in-pandas-based-on-column-value \r\n",
    "- Moving average and plotting: https://towardsdatascience.com/moving-averages-in-python-16170e20f6c \r\n",
    "- Plotting data in Matplotlib: https://matplotlib.org/gallery/lines_bars_and_markers/csd_demo.html#sphx-glr-gallery-lines-bars-and-markers-csd-demo-py\r\n",
    "\r\n",
    "\r\n",
    "## Requirements\r\n",
    "- You may use .py files, however, you should use an annotated Notebook to explain your workflow.\r\n",
    "- Your final submission must be uploaded to git.\r\n",
    "- Your final graphic should have at least two subplots / subfigures and have at least four different data series.  \r\n",
    "- Plots should be well labeled and clear.\r\n",
    "- You may use any online resource for inspiration, however, you must cite all sources used outside of the course notes and Think Python textbook."
   ],
   "metadata": {}
  },
  {
   "cell_type": "code",
   "execution_count": null,
   "source": [],
   "outputs": [],
   "metadata": {}
  }
 ],
 "metadata": {
  "kernelspec": {
   "display_name": "Python 3",
   "language": "python",
   "name": "python3"
  },
  "language_info": {
   "codemirror_mode": {
    "name": "ipython",
    "version": 3
   },
   "file_extension": ".py",
   "mimetype": "text/x-python",
   "name": "python",
   "nbconvert_exporter": "python",
   "pygments_lexer": "ipython3",
   "version": "3.8.3"
  }
 },
 "nbformat": 4,
 "nbformat_minor": 2
}